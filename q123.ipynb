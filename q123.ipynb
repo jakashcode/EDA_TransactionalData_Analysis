{
 "cells": [
  {
   "cell_type": "code",
   "execution_count": 177,
   "metadata": {},
   "outputs": [
    {
     "data": {
      "text/html": [
       "<div>\n",
       "<style scoped>\n",
       "    .dataframe tbody tr th:only-of-type {\n",
       "        vertical-align: middle;\n",
       "    }\n",
       "\n",
       "    .dataframe tbody tr th {\n",
       "        vertical-align: top;\n",
       "    }\n",
       "\n",
       "    .dataframe thead th {\n",
       "        text-align: right;\n",
       "    }\n",
       "</style>\n",
       "<table border=\"1\" class=\"dataframe\">\n",
       "  <thead>\n",
       "    <tr style=\"text-align: right;\">\n",
       "      <th></th>\n",
       "      <th>Transaction_ID</th>\n",
       "      <th>Profile ID</th>\n",
       "      <th>Date_of_Booking</th>\n",
       "      <th>Date_of_Service_Requested</th>\n",
       "      <th>Source</th>\n",
       "      <th>Slot of Booking (Hour of the Day)</th>\n",
       "      <th>year</th>\n",
       "      <th>month</th>\n",
       "      <th>day</th>\n",
       "      <th>days_since_last_event</th>\n",
       "      <th>DateofServiceRequested</th>\n",
       "      <th>diff_minutes</th>\n",
       "      <th>days_sincelast_event</th>\n",
       "      <th>DateofBooking</th>\n",
       "      <th>latest_cart</th>\n",
       "      <th>labels</th>\n",
       "      <th>thirty</th>\n",
       "      <th>ninty</th>\n",
       "    </tr>\n",
       "  </thead>\n",
       "  <tbody>\n",
       "    <tr>\n",
       "      <th>0</th>\n",
       "      <td>BBCHH</td>\n",
       "      <td>1</td>\n",
       "      <td>2018-05-20</td>\n",
       "      <td>2018-05-21</td>\n",
       "      <td>D</td>\n",
       "      <td>14</td>\n",
       "      <td>2018</td>\n",
       "      <td>5</td>\n",
       "      <td>20</td>\n",
       "      <td>NaT</td>\n",
       "      <td>2018-05-21</td>\n",
       "      <td>1 days</td>\n",
       "      <td>0.0</td>\n",
       "      <td>2018-05-20</td>\n",
       "      <td>[2018-05-20 00:00:00, 2018-09-23 00:00:00]</td>\n",
       "      <td>126.0</td>\n",
       "      <td>0</td>\n",
       "      <td>0</td>\n",
       "    </tr>\n",
       "    <tr>\n",
       "      <th>1</th>\n",
       "      <td>CHWFD</td>\n",
       "      <td>1</td>\n",
       "      <td>2018-09-23</td>\n",
       "      <td>2018-09-23</td>\n",
       "      <td>C</td>\n",
       "      <td>8</td>\n",
       "      <td>2018</td>\n",
       "      <td>9</td>\n",
       "      <td>23</td>\n",
       "      <td>126 days</td>\n",
       "      <td>2018-09-23</td>\n",
       "      <td>0 days</td>\n",
       "      <td>126.0</td>\n",
       "      <td>2018-09-23</td>\n",
       "      <td>[2018-05-20 00:00:00, 2018-09-23 00:00:00]</td>\n",
       "      <td>0.0</td>\n",
       "      <td>0</td>\n",
       "      <td>0</td>\n",
       "    </tr>\n",
       "    <tr>\n",
       "      <th>2</th>\n",
       "      <td>DYDMF</td>\n",
       "      <td>2</td>\n",
       "      <td>2018-11-10</td>\n",
       "      <td>2018-11-13</td>\n",
       "      <td>C</td>\n",
       "      <td>11</td>\n",
       "      <td>2018</td>\n",
       "      <td>11</td>\n",
       "      <td>10</td>\n",
       "      <td>NaT</td>\n",
       "      <td>2018-11-13</td>\n",
       "      <td>3 days</td>\n",
       "      <td>0.0</td>\n",
       "      <td>2018-11-10</td>\n",
       "      <td>[2018-11-10 00:00:00]</td>\n",
       "      <td>0.0</td>\n",
       "      <td>0</td>\n",
       "      <td>0</td>\n",
       "    </tr>\n",
       "    <tr>\n",
       "      <th>3</th>\n",
       "      <td>EZYSA</td>\n",
       "      <td>3</td>\n",
       "      <td>2018-04-12</td>\n",
       "      <td>2018-04-16</td>\n",
       "      <td>B</td>\n",
       "      <td>8</td>\n",
       "      <td>2018</td>\n",
       "      <td>4</td>\n",
       "      <td>12</td>\n",
       "      <td>NaT</td>\n",
       "      <td>2018-04-16</td>\n",
       "      <td>4 days</td>\n",
       "      <td>0.0</td>\n",
       "      <td>2018-04-12</td>\n",
       "      <td>[2018-04-12 00:00:00, 2018-08-05 00:00:00]</td>\n",
       "      <td>115.0</td>\n",
       "      <td>0</td>\n",
       "      <td>0</td>\n",
       "    </tr>\n",
       "    <tr>\n",
       "      <th>4</th>\n",
       "      <td>HWAKX</td>\n",
       "      <td>3</td>\n",
       "      <td>2018-08-05</td>\n",
       "      <td>2018-08-06</td>\n",
       "      <td>B</td>\n",
       "      <td>11</td>\n",
       "      <td>2018</td>\n",
       "      <td>8</td>\n",
       "      <td>5</td>\n",
       "      <td>115 days</td>\n",
       "      <td>2018-08-06</td>\n",
       "      <td>1 days</td>\n",
       "      <td>115.0</td>\n",
       "      <td>2018-08-05</td>\n",
       "      <td>[2018-04-12 00:00:00, 2018-08-05 00:00:00]</td>\n",
       "      <td>0.0</td>\n",
       "      <td>0</td>\n",
       "      <td>0</td>\n",
       "    </tr>\n",
       "  </tbody>\n",
       "</table>\n",
       "</div>"
      ],
      "text/plain": [
       "  Transaction_ID  Profile ID Date_of_Booking Date_of_Service_Requested Source  \\\n",
       "0          BBCHH           1      2018-05-20                2018-05-21      D   \n",
       "1          CHWFD           1      2018-09-23                2018-09-23      C   \n",
       "2          DYDMF           2      2018-11-10                2018-11-13      C   \n",
       "3          EZYSA           3      2018-04-12                2018-04-16      B   \n",
       "4          HWAKX           3      2018-08-05                2018-08-06      B   \n",
       "\n",
       "   Slot of Booking (Hour of the Day)  year  month  day days_since_last_event  \\\n",
       "0                                 14  2018      5   20                   NaT   \n",
       "1                                  8  2018      9   23              126 days   \n",
       "2                                 11  2018     11   10                   NaT   \n",
       "3                                  8  2018      4   12                   NaT   \n",
       "4                                 11  2018      8    5              115 days   \n",
       "\n",
       "  DateofServiceRequested diff_minutes  days_sincelast_event DateofBooking  \\\n",
       "0             2018-05-21       1 days                   0.0    2018-05-20   \n",
       "1             2018-09-23       0 days                 126.0    2018-09-23   \n",
       "2             2018-11-13       3 days                   0.0    2018-11-10   \n",
       "3             2018-04-16       4 days                   0.0    2018-04-12   \n",
       "4             2018-08-06       1 days                 115.0    2018-08-05   \n",
       "\n",
       "                                  latest_cart  labels  thirty  ninty  \n",
       "0  [2018-05-20 00:00:00, 2018-09-23 00:00:00]   126.0       0      0  \n",
       "1  [2018-05-20 00:00:00, 2018-09-23 00:00:00]     0.0       0      0  \n",
       "2                       [2018-11-10 00:00:00]     0.0       0      0  \n",
       "3  [2018-04-12 00:00:00, 2018-08-05 00:00:00]   115.0       0      0  \n",
       "4  [2018-04-12 00:00:00, 2018-08-05 00:00:00]     0.0       0      0  "
      ]
     },
     "execution_count": 177,
     "metadata": {},
     "output_type": "execute_result"
    }
   ],
   "source": [
    "import pandas as pd \n",
    "from collections import OrderedDict\n",
    "import pickle\n",
    "df = pd.read_pickle(\"features.pickle\")\n",
    "df.head()"
   ]
  },
  {
   "cell_type": "code",
   "execution_count": 178,
   "metadata": {},
   "outputs": [
    {
     "data": {
      "text/html": [
       "<div>\n",
       "<style scoped>\n",
       "    .dataframe tbody tr th:only-of-type {\n",
       "        vertical-align: middle;\n",
       "    }\n",
       "\n",
       "    .dataframe tbody tr th {\n",
       "        vertical-align: top;\n",
       "    }\n",
       "\n",
       "    .dataframe thead th {\n",
       "        text-align: right;\n",
       "    }\n",
       "</style>\n",
       "<table border=\"1\" class=\"dataframe\">\n",
       "  <thead>\n",
       "    <tr style=\"text-align: right;\">\n",
       "      <th></th>\n",
       "      <th>Profile ID</th>\n",
       "    </tr>\n",
       "    <tr>\n",
       "      <th>month</th>\n",
       "      <th></th>\n",
       "    </tr>\n",
       "  </thead>\n",
       "  <tbody>\n",
       "    <tr>\n",
       "      <th>1</th>\n",
       "      <td>2324</td>\n",
       "    </tr>\n",
       "    <tr>\n",
       "      <th>2</th>\n",
       "      <td>2115</td>\n",
       "    </tr>\n",
       "    <tr>\n",
       "      <th>3</th>\n",
       "      <td>2248</td>\n",
       "    </tr>\n",
       "    <tr>\n",
       "      <th>4</th>\n",
       "      <td>2188</td>\n",
       "    </tr>\n",
       "    <tr>\n",
       "      <th>5</th>\n",
       "      <td>2189</td>\n",
       "    </tr>\n",
       "    <tr>\n",
       "      <th>6</th>\n",
       "      <td>2241</td>\n",
       "    </tr>\n",
       "    <tr>\n",
       "      <th>7</th>\n",
       "      <td>2290</td>\n",
       "    </tr>\n",
       "    <tr>\n",
       "      <th>8</th>\n",
       "      <td>2228</td>\n",
       "    </tr>\n",
       "    <tr>\n",
       "      <th>9</th>\n",
       "      <td>2200</td>\n",
       "    </tr>\n",
       "    <tr>\n",
       "      <th>10</th>\n",
       "      <td>2352</td>\n",
       "    </tr>\n",
       "    <tr>\n",
       "      <th>11</th>\n",
       "      <td>2276</td>\n",
       "    </tr>\n",
       "    <tr>\n",
       "      <th>12</th>\n",
       "      <td>2424</td>\n",
       "    </tr>\n",
       "  </tbody>\n",
       "</table>\n",
       "</div>"
      ],
      "text/plain": [
       "       Profile ID\n",
       "month            \n",
       "1            2324\n",
       "2            2115\n",
       "3            2248\n",
       "4            2188\n",
       "5            2189\n",
       "6            2241\n",
       "7            2290\n",
       "8            2228\n",
       "9            2200\n",
       "10           2352\n",
       "11           2276\n",
       "12           2424"
      ]
     },
     "execution_count": 178,
     "metadata": {},
     "output_type": "execute_result"
    }
   ],
   "source": [
    "monthuuser=df.groupby(['month']).agg(OrderedDict( [('Profile ID','nunique')]))\n",
    "monthuuser"
   ]
  },
  {
   "cell_type": "code",
   "execution_count": 180,
   "metadata": {},
   "outputs": [],
   "source": [
    "monthuuser.reset_index(level=['month'],inplace=True)\n"
   ]
  },
  {
   "cell_type": "code",
   "execution_count": 182,
   "metadata": {},
   "outputs": [],
   "source": [
    "monthuuser=pd.DataFrame(monthuuser)"
   ]
  },
  {
   "cell_type": "code",
   "execution_count": 185,
   "metadata": {},
   "outputs": [],
   "source": [
    "monthuuser.rename(columns={'Profile ID':'frequency'},inplace=True)`"
   ]
  },
  {
   "cell_type": "markdown",
   "metadata": {},
   "source": [
    "1.Plot new users acquired every month on a bar chart (New user in a month = a customer who has placed a request for the first time in this month)"
   ]
  },
  {
   "cell_type": "code",
   "execution_count": 188,
   "metadata": {},
   "outputs": [
    {
     "data": {
      "text/plain": [
       "<matplotlib.axes._subplots.AxesSubplot at 0x26d90779b38>"
      ]
     },
     "execution_count": 188,
     "metadata": {},
     "output_type": "execute_result"
    },
    {
     "data": {
      "image/png": "[encoded data removed]",
      "text/plain": [
       "<Figure size 432x288 with 1 Axes>"
      ]
     },
     "metadata": {
      "needs_background": "light"
     },
     "output_type": "display_data"
    }
   ],
   "source": [
    "\n",
    "import matplotlib.pyplot as plt\n",
    " #df = pd.DataFrame({'lab':['A', 'B', 'C'], 'val':[10, 30, 20]})\n",
    "ax = monthuuser.plot.bar(x='month', y='frequency', rot=0)\n",
    "ax"
   ]
  },
  {
   "cell_type": "code",
   "execution_count": 152,
   "metadata": {},
   "outputs": [
    {
     "name": "stdout",
     "output_type": "stream",
     "text": [
      "<class 'pandas.core.frame.DataFrame'>\n",
      "Int64Index: 2675 entries, 6 to 30937\n",
      "Data columns (total 2 columns):\n",
      "Profile ID    2675 non-null int64\n",
      "thirty        2675 non-null int64\n",
      "dtypes: int64(2)\n",
      "memory usage: 62.7 KB\n"
     ]
    }
   ],
   "source": [
    "z=df.groupby(['month'],as_index=False)[('Profile ID'),('thirty')]\n",
    "zz=z.get_group(1)\n",
    "df_jan = pd.DataFrame(zz) \n",
    "df_jan.info()"
   ]
  },
  {
   "cell_type": "markdown",
   "metadata": {},
   "source": [
    "\"2. Day repeat rate is defined as percentage of new users who have placed a 2nd order within 30 days of placing their first order.\n",
    "Q. What is the 30-day repeat rate of users acquired in December 2017?\""
   ]
  },
  {
   "cell_type": "code",
   "execution_count": 166,
   "metadata": {},
   "outputs": [
    {
     "name": "stdout",
     "output_type": "stream",
     "text": [
      "2424\n",
      "396\n",
      "0.16336633663366337\n"
     ]
    }
   ],
   "source": [
    "dff=df.groupby(['month'],as_index=False)[('Profile ID'),('thirty')]\n",
    "dec_group=dff.get_group(12)\n",
    "df_dec = pd.DataFrame(dec_group) \n",
    "dec_df= df_dec.drop_duplicates(subset='Profile ID', keep='first')\n",
    "total_customers=len(dec_df.index)\n",
    "print(total_customers)\n",
    "repeat_customers=dec_df['thirty'].sum()\n",
    "print(repeat_customers)\n",
    "dec_30=repeat_customers/total_customers\n",
    "print(dec_30)"
   ]
  },
  {
   "cell_type": "markdown",
   "metadata": {},
   "source": [
    "16.163366 % of  of new users who have placed order in December will a 2nd order within 30 days of placing their first order.\n"
   ]
  },
  {
   "cell_type": "markdown",
   "metadata": {},
   "source": [
    "3.What is the 90-day repeat rate of users acquired in Jan,Feb,March 2018?"
   ]
  },
  {
   "cell_type": "code",
   "execution_count": 171,
   "metadata": {},
   "outputs": [
    {
     "name": "stdout",
     "output_type": "stream",
     "text": [
      "2324\n",
      "750\n"
     ]
    },
    {
     "data": {
      "text/plain": [
       "0.3227194492254733"
      ]
     },
     "execution_count": 171,
     "metadata": {},
     "output_type": "execute_result"
    }
   ],
   "source": [
    "dff=df.groupby(['month'],as_index=False)[('Profile ID'),('ninty')]\n",
    "jan_group=dff.get_group(1)\n",
    "df_jan = pd.DataFrame(jan_group) \n",
    "jan_df= df_jan.drop_duplicates(subset='Profile ID', keep='first')\n",
    "total_customers=len(jan_df.index)\n",
    "print(total_customers)\n",
    "repeat_customers=jan_df['ninty'].sum()\n",
    "print(repeat_customers)\n",
    "jan_90=repeat_customers/total_customers\n",
    "jan_90"
   ]
  },
  {
   "cell_type": "markdown",
   "metadata": {},
   "source": [
    "32.227 % of  of new users who have placed order in Jan will plce a 2nd order within 90 days of placing their first order.\n"
   ]
  },
  {
   "cell_type": "code",
   "execution_count": 189,
   "metadata": {},
   "outputs": [
    {
     "name": "stdout",
     "output_type": "stream",
     "text": [
      "2115\n",
      "700\n"
     ]
    },
    {
     "data": {
      "text/plain": [
       "0.3309692671394799"
      ]
     },
     "execution_count": 189,
     "metadata": {},
     "output_type": "execute_result"
    }
   ],
   "source": [
    "dff=df.groupby(['month'],as_index=False)[('Profile ID'),('ninty')]\n",
    "feb_group=dff.get_group(2)\n",
    "df_feb = pd.DataFrame(feb_group) \n",
    "feb_df= df_feb.drop_duplicates(subset='Profile ID', keep='first')\n",
    "total_customers=len(feb_df.index)\n",
    "print(total_customers)\n",
    "repeat_customers=feb_df['ninty'].sum()\n",
    "print(repeat_customers)\n",
    "feb_90=repeat_customers/total_customers\n",
    "feb_90"
   ]
  },
  {
   "cell_type": "markdown",
   "metadata": {},
   "source": [
    "33.1 % of of new users who have placed order in Feb will plce a 2nd order within 90 days of placing their first order."
   ]
  },
  {
   "cell_type": "code",
   "execution_count": 174,
   "metadata": {},
   "outputs": [
    {
     "name": "stdout",
     "output_type": "stream",
     "text": [
      "2248\n",
      "730\n"
     ]
    },
    {
     "data": {
      "text/plain": [
       "0.32473309608540923"
      ]
     },
     "execution_count": 174,
     "metadata": {},
     "output_type": "execute_result"
    }
   ],
   "source": [
    "dff=df.groupby(['month'],as_index=False)[('Profile ID'),('ninty')]\n",
    "mar_group=dff.get_group(3)\n",
    "df_mar = pd.DataFrame(mar_group) \n",
    "mar_df= df_mar.drop_duplicates(subset='Profile ID', keep='first')\n",
    "total_customers=len(mar_df.index)\n",
    "print(total_customers)\n",
    "repeat_customers=mar_df['ninty'].sum()\n",
    "print(repeat_customers)\n",
    "mar_90=repeat_customers/total_customers\n",
    "mar_90"
   ]
  },
  {
   "cell_type": "markdown",
   "metadata": {},
   "source": [
    "32.4733 % of  of new users who have placed order in March will a 2nd order within 90 days of placing their first order.\n"
   ]
  },
  {
   "cell_type": "markdown",
   "metadata": {},
   "source": [
    "THANK YOU !"
   ]
  }
 ],
 "metadata": {
  "kernelspec": {
   "display_name": "Python 3",
   "language": "python",
   "name": "python3"
  },
  "language_info": {
   "codemirror_mode": {
    "name": "ipython",
    "version": 3
   },
   "file_extension": ".py",
   "mimetype": "text/x-python",
   "name": "python",
   "nbconvert_exporter": "python",
   "pygments_lexer": "ipython3",
   "version": "3.7.3"
  }
 },
 "nbformat": 4,
 "nbformat_minor": 2
}
